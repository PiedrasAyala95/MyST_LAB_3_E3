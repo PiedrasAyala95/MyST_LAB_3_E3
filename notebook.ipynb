{
 "cells": [
  {
   "cell_type": "markdown",
   "metadata": {},
   "source": [
    "<img src=\"http://oci02.img.iteso.mx/identidad_de_instancia_2018/ITESO/Logos%20ITESO/Logo-ITESO-Principal.jpg\">"
   ]
  },
  {
   "cell_type": "markdown",
   "metadata": {},
   "source": [
    "<center><font color=#555555><font size=6> Ingeniería Financiera </font> <br> <br>\n",
    "\n",
    "<center><font color=#555555><font size=5> ITE1731 - Microestructura y Sistemas de Trading </font> <br> <br> <br>\n",
    "\n",
    "<center><font color=#555555><font size=5> I.F. Paloma Martinez Gonzalez, Ana Marcela Ramos Gutierrez, Andres Piedras Ayala, Jaime Eduardo Vazquez Guzman </font> <br> <br>\n",
    "   \n",
    "<center> <font color= #555555> <font size = 4> Abril 2021 </a> | <font color= #555555> <font size = 4> Repositorio: <a href='https://github.com/'>Link</a></font>"
   ]
  },
  {
   "cell_type": "markdown",
   "metadata": {},
   "source": [
    "<center> <font color= #555555> <font size = 6> Laboratorio 3 </font> <br> <br> <font color= #555555> <font size = 5> Inversión del Capital </font>"
   ]
  },
  {
   "cell_type": "markdown",
   "metadata": {},
   "source": [
    "# <font color= #555555> <font size = 5> Abstract </font>"
   ]
  },
  {
   "cell_type": "markdown",
   "metadata": {},
   "source": [
    "<font color= #6B6B6B> <font size = 2> Este documento fue elaborado por tu **Paloma Martinez, Jaime Eduardo Vazquez, Ana Marcela Ramos y Andres Piedras **, como un trabajo parcial para la materia de **Microestructura y Sistemas de Trading - ITE1731**, la cual es parte del curriculum de la licenciatura en Ingeniería Financiera, ofertada por la universidad **ITESO**. En el presente trabajo se plantea el analisis de Behavioral Finance de un sistema de trading. "
   ]
  },
  {
   "cell_type": "markdown",
   "metadata": {},
   "source": [
    "# <font color= #6B6B6B> <font size = 6> 0. Librerías y Dependencias </font>\n",
    "\n",
    "<hr style=\"border:0.02in solid gray\"> </hr>\n",
    "\n",
    "# <font color= #6B6B6B> <font size = 5> 0.1 Librerías </font> <font color= #555555>\n",
    "\n",
    "Para correr este notebook es necesario tener instaladas y/o en el archivo _requirements.txt_ las siguientes librerías :\n",
    "\n",
    "- pandas>=1.1.1 \n",
    "- numpy>=1.19.1\n",
    "- jupyter>=1.0.0\n",
    "\n",
    "# <font color= #6B6B6B> <font size = 5> 0.2 Dependencias </font> <font color= #555555>\n",
    "\n",
    "Para correr este notebook es necesario contar con los siguientes archivos y tener MetaTrader 5 instalado en tu ordenador:\n",
    "\n",
    "- files/MyST_LAB2_AMRG.xlsx : Documento de Marcela\n",
    "- files/MyST_LAB2_APA.xlsx : Documento de Andres\n",
    "- files/MyST_LAB2_JEVG.xlsx : Documento de Jaime\n",
    "- files/MyST_LAB2_PMG.xlsx : Documento de Paloma\n",
    "\n",
    "\n",
    "<br>\n",
    "\n",
    "# <font color= #6B6B6B> <font size = 6> 1. Introducción </font>\n",
    "\n",
    "<hr style=\"border:0.02in solid gray\"> </hr>\n",
    "\n",
    "Este proyecto tiene como objetivo elaborar multiples herramientas para medir el desempeño de nuestra actividad de trading que hicimos en el laboratorio 2. A grandes razgos, el laboratorio dos consistía en hacer uno o mas trades diarios dentro de la aplicacion MetaTrader 5, todo se hacia manual y tu decidías en que invertir utilizando estrategias de analisis técnico, chartista o el que desearas. En base al laboratorio explicado anteriormente, este laboratorio tiene como objetivo analizar diferentes medidas de desempeño de los diferentes compañeros que conforman este grupo y ver cual fue la razón por la cuál no se obtuvieron los rendimientos esperados o vice versa, cuál fue una estrategia que funcionó. \n",
    "\n"
   ]
  },
  {
   "cell_type": "markdown",
   "metadata": {},
   "source": [
    "# <font color= #6B6B6B> <font size = 6> 2. Objetivos </font>\n",
    "\n",
    "<hr style=\"border:0.02in solid gray\"> </hr>\n",
    "\n",
    "Nuestro objetivo principal fue identificar todas las medidas de desempeño del trading que hicimos durante dos semanas y concluir cuales fueron los trades que mas exito tuvieron, cuales fueron los que menos y en general como podriamos crear un sistema de trading con las mejores medidas. \n",
    "\n",
    "\n"
   ]
  },
  {
   "cell_type": "markdown",
   "metadata": {},
   "source": [
    "# <font color= #6B6B6B> <font size = 6> 3. Datos </font>"
   ]
  },
  {
   "cell_type": "markdown",
   "metadata": {},
   "source": [
    "<hr style=\"border:0.02in solid gray\"> </hr>"
   ]
  },
  {
   "cell_type": "code",
   "execution_count": 1,
   "metadata": {},
   "outputs": [],
   "source": [
    "import functions as fn\n",
    "from data import f_leer_archivo\n",
    "import visualizations as vn"
   ]
  },
  {
   "cell_type": "markdown",
   "metadata": {},
   "source": [
    "En esta primera parte descargaremos los historicos de trading dependiendo el histórico del compañero que queramos analizar. Solamente es necesario cambiar las iniciales del alumno en el nombre del documento para descargar cada una de las tablas. "
   ]
  },
  {
   "cell_type": "code",
   "execution_count": 28,
   "metadata": {},
   "outputs": [
    {
     "data": {
      "text/html": [
       "<div>\n",
       "<style scoped>\n",
       "    .dataframe tbody tr th:only-of-type {\n",
       "        vertical-align: middle;\n",
       "    }\n",
       "\n",
       "    .dataframe tbody tr th {\n",
       "        vertical-align: top;\n",
       "    }\n",
       "\n",
       "    .dataframe thead th {\n",
       "        text-align: right;\n",
       "    }\n",
       "</style>\n",
       "<table border=\"1\" class=\"dataframe\">\n",
       "  <thead>\n",
       "    <tr style=\"text-align: right;\">\n",
       "      <th></th>\n",
       "      <th>Time</th>\n",
       "      <th>Position</th>\n",
       "      <th>Symbol</th>\n",
       "      <th>Type</th>\n",
       "      <th>Volume</th>\n",
       "      <th>Price</th>\n",
       "      <th>S / L</th>\n",
       "      <th>T / P</th>\n",
       "      <th>Time.1</th>\n",
       "      <th>Price.1</th>\n",
       "      <th>Commission</th>\n",
       "      <th>Swap</th>\n",
       "      <th>Profit</th>\n",
       "    </tr>\n",
       "  </thead>\n",
       "  <tbody>\n",
       "    <tr>\n",
       "      <th>0</th>\n",
       "      <td>2021.02.19 08:10:39</td>\n",
       "      <td>873210071</td>\n",
       "      <td>EURUSD</td>\n",
       "      <td>buy</td>\n",
       "      <td>0.10</td>\n",
       "      <td>1.20965</td>\n",
       "      <td>1.20866</td>\n",
       "      <td>1.21066</td>\n",
       "      <td>2021.02.19 09:17:50</td>\n",
       "      <td>1.21066</td>\n",
       "      <td>0</td>\n",
       "      <td>0.0</td>\n",
       "      <td>10.10</td>\n",
       "    </tr>\n",
       "    <tr>\n",
       "      <th>1</th>\n",
       "      <td>2021.02.22 03:52:22</td>\n",
       "      <td>874804645</td>\n",
       "      <td>EURCHF</td>\n",
       "      <td>buy</td>\n",
       "      <td>1.08</td>\n",
       "      <td>1.08747</td>\n",
       "      <td>1.08643</td>\n",
       "      <td>1.08945</td>\n",
       "      <td>2021.02.22 09:56:00</td>\n",
       "      <td>1.08945</td>\n",
       "      <td>0</td>\n",
       "      <td>0.0</td>\n",
       "      <td>237.67</td>\n",
       "    </tr>\n",
       "    <tr>\n",
       "      <th>2</th>\n",
       "      <td>2021.02.23 08:51:46</td>\n",
       "      <td>876896332</td>\n",
       "      <td>EURUSD</td>\n",
       "      <td>buy</td>\n",
       "      <td>10.00</td>\n",
       "      <td>1.21672</td>\n",
       "      <td>1.21565</td>\n",
       "      <td>1.21865</td>\n",
       "      <td>2021.02.23 10:36:20</td>\n",
       "      <td>1.21565</td>\n",
       "      <td>0</td>\n",
       "      <td>0.0</td>\n",
       "      <td>-1070.00</td>\n",
       "    </tr>\n",
       "    <tr>\n",
       "      <th>3</th>\n",
       "      <td>2021.02.23 21:03:19</td>\n",
       "      <td>878179027</td>\n",
       "      <td>USDCHF</td>\n",
       "      <td>buy</td>\n",
       "      <td>10.00</td>\n",
       "      <td>0.90353</td>\n",
       "      <td>NaN</td>\n",
       "      <td>0.90368</td>\n",
       "      <td>2021.02.23 21:14:39</td>\n",
       "      <td>0.90368</td>\n",
       "      <td>0</td>\n",
       "      <td>0.0</td>\n",
       "      <td>165.99</td>\n",
       "    </tr>\n",
       "    <tr>\n",
       "      <th>4</th>\n",
       "      <td>2021.02.23 21:14:29</td>\n",
       "      <td>878190806</td>\n",
       "      <td>GBPUSD</td>\n",
       "      <td>buy</td>\n",
       "      <td>10.00</td>\n",
       "      <td>1.41096</td>\n",
       "      <td>NaN</td>\n",
       "      <td>1.41283</td>\n",
       "      <td>2021.02.24 01:09:57</td>\n",
       "      <td>1.41138</td>\n",
       "      <td>0</td>\n",
       "      <td>-2.0</td>\n",
       "      <td>420.00</td>\n",
       "    </tr>\n",
       "  </tbody>\n",
       "</table>\n",
       "</div>"
      ],
      "text/plain": [
       "                  Time   Position  Symbol Type  Volume    Price    S / L  \\\n",
       "0  2021.02.19 08:10:39  873210071  EURUSD  buy    0.10  1.20965  1.20866   \n",
       "1  2021.02.22 03:52:22  874804645  EURCHF  buy    1.08  1.08747  1.08643   \n",
       "2  2021.02.23 08:51:46  876896332  EURUSD  buy   10.00  1.21672  1.21565   \n",
       "3  2021.02.23 21:03:19  878179027  USDCHF  buy   10.00  0.90353      NaN   \n",
       "4  2021.02.23 21:14:29  878190806  GBPUSD  buy   10.00  1.41096      NaN   \n",
       "\n",
       "     T / P               Time.1  Price.1  Commission  Swap   Profit  \n",
       "0  1.21066  2021.02.19 09:17:50  1.21066           0   0.0    10.10  \n",
       "1  1.08945  2021.02.22 09:56:00  1.08945           0   0.0   237.67  \n",
       "2  1.21865  2021.02.23 10:36:20  1.21565           0   0.0 -1070.00  \n",
       "3  0.90368  2021.02.23 21:14:39  0.90368           0   0.0   165.99  \n",
       "4  1.41283  2021.02.24 01:09:57  1.41138           0  -2.0   420.00  "
      ]
     },
     "execution_count": 28,
     "metadata": {},
     "output_type": "execute_result"
    }
   ],
   "source": [
    "#Funcion desde regresa un dataframe con toda la informacion del archivo.\n",
    "data = f_leer_archivo('MyST_LAB2_AMRG.xlsx','Historico MT4')\n",
    "data.head()"
   ]
  },
  {
   "cell_type": "markdown",
   "metadata": {},
   "source": [
    "Una vez descargada la tabla, procederemos a convertir las columnas de opentime y closetime a tipo datetime, utilizando la función de pandas to_datetime. Además, en el mismo DataFrame, creamos una nueva columna nombrada 'time', la cual incluye los segundos transcurridos entre el momento de apertura y el momento de cierre de cada operación."
   ]
  },
  {
   "cell_type": "code",
   "execution_count": 3,
   "metadata": {
    "scrolled": true
   },
   "outputs": [
    {
     "data": {
      "text/html": [
       "<div>\n",
       "<style scoped>\n",
       "    .dataframe tbody tr th:only-of-type {\n",
       "        vertical-align: middle;\n",
       "    }\n",
       "\n",
       "    .dataframe tbody tr th {\n",
       "        vertical-align: top;\n",
       "    }\n",
       "\n",
       "    .dataframe thead th {\n",
       "        text-align: right;\n",
       "    }\n",
       "</style>\n",
       "<table border=\"1\" class=\"dataframe\">\n",
       "  <thead>\n",
       "    <tr style=\"text-align: right;\">\n",
       "      <th></th>\n",
       "      <th>Time</th>\n",
       "      <th>Position</th>\n",
       "      <th>Symbol</th>\n",
       "      <th>Type</th>\n",
       "      <th>Volume</th>\n",
       "      <th>Price</th>\n",
       "      <th>S / L</th>\n",
       "      <th>T / P</th>\n",
       "      <th>Time.1</th>\n",
       "      <th>Price.1</th>\n",
       "      <th>Commission</th>\n",
       "      <th>Swap</th>\n",
       "      <th>Profit</th>\n",
       "      <th>open_time</th>\n",
       "      <th>close_time</th>\n",
       "      <th>time</th>\n",
       "    </tr>\n",
       "  </thead>\n",
       "  <tbody>\n",
       "    <tr>\n",
       "      <th>0</th>\n",
       "      <td>2021.02.19 08:10:39</td>\n",
       "      <td>873210071</td>\n",
       "      <td>EURUSD</td>\n",
       "      <td>buy</td>\n",
       "      <td>0.10</td>\n",
       "      <td>1.20965</td>\n",
       "      <td>1.20866</td>\n",
       "      <td>1.21066</td>\n",
       "      <td>2021.02.19 09:17:50</td>\n",
       "      <td>1.21066</td>\n",
       "      <td>0</td>\n",
       "      <td>0.0</td>\n",
       "      <td>10.10</td>\n",
       "      <td>2021-02-19 08:10:39</td>\n",
       "      <td>2021-02-19 09:17:50</td>\n",
       "      <td>4031.0</td>\n",
       "    </tr>\n",
       "    <tr>\n",
       "      <th>1</th>\n",
       "      <td>2021.02.22 03:52:22</td>\n",
       "      <td>874804645</td>\n",
       "      <td>EURCHF</td>\n",
       "      <td>buy</td>\n",
       "      <td>1.08</td>\n",
       "      <td>1.08747</td>\n",
       "      <td>1.08643</td>\n",
       "      <td>1.08945</td>\n",
       "      <td>2021.02.22 09:56:00</td>\n",
       "      <td>1.08945</td>\n",
       "      <td>0</td>\n",
       "      <td>0.0</td>\n",
       "      <td>237.67</td>\n",
       "      <td>2021-02-22 03:52:22</td>\n",
       "      <td>2021-02-22 09:56:00</td>\n",
       "      <td>21818.0</td>\n",
       "    </tr>\n",
       "    <tr>\n",
       "      <th>2</th>\n",
       "      <td>2021.02.23 08:51:46</td>\n",
       "      <td>876896332</td>\n",
       "      <td>EURUSD</td>\n",
       "      <td>buy</td>\n",
       "      <td>10.00</td>\n",
       "      <td>1.21672</td>\n",
       "      <td>1.21565</td>\n",
       "      <td>1.21865</td>\n",
       "      <td>2021.02.23 10:36:20</td>\n",
       "      <td>1.21565</td>\n",
       "      <td>0</td>\n",
       "      <td>0.0</td>\n",
       "      <td>-1070.00</td>\n",
       "      <td>2021-02-23 08:51:46</td>\n",
       "      <td>2021-02-23 10:36:20</td>\n",
       "      <td>6274.0</td>\n",
       "    </tr>\n",
       "    <tr>\n",
       "      <th>3</th>\n",
       "      <td>2021.02.23 21:03:19</td>\n",
       "      <td>878179027</td>\n",
       "      <td>USDCHF</td>\n",
       "      <td>buy</td>\n",
       "      <td>10.00</td>\n",
       "      <td>0.90353</td>\n",
       "      <td>NaN</td>\n",
       "      <td>0.90368</td>\n",
       "      <td>2021.02.23 21:14:39</td>\n",
       "      <td>0.90368</td>\n",
       "      <td>0</td>\n",
       "      <td>0.0</td>\n",
       "      <td>165.99</td>\n",
       "      <td>2021-02-23 21:03:19</td>\n",
       "      <td>2021-02-23 21:14:39</td>\n",
       "      <td>680.0</td>\n",
       "    </tr>\n",
       "    <tr>\n",
       "      <th>4</th>\n",
       "      <td>2021.02.23 21:14:29</td>\n",
       "      <td>878190806</td>\n",
       "      <td>GBPUSD</td>\n",
       "      <td>buy</td>\n",
       "      <td>10.00</td>\n",
       "      <td>1.41096</td>\n",
       "      <td>NaN</td>\n",
       "      <td>1.41283</td>\n",
       "      <td>2021.02.24 01:09:57</td>\n",
       "      <td>1.41138</td>\n",
       "      <td>0</td>\n",
       "      <td>-2.0</td>\n",
       "      <td>420.00</td>\n",
       "      <td>2021-02-23 21:14:29</td>\n",
       "      <td>2021-02-24 01:09:57</td>\n",
       "      <td>14128.0</td>\n",
       "    </tr>\n",
       "  </tbody>\n",
       "</table>\n",
       "</div>"
      ],
      "text/plain": [
       "                  Time   Position  Symbol Type  Volume    Price    S / L  \\\n",
       "0  2021.02.19 08:10:39  873210071  EURUSD  buy    0.10  1.20965  1.20866   \n",
       "1  2021.02.22 03:52:22  874804645  EURCHF  buy    1.08  1.08747  1.08643   \n",
       "2  2021.02.23 08:51:46  876896332  EURUSD  buy   10.00  1.21672  1.21565   \n",
       "3  2021.02.23 21:03:19  878179027  USDCHF  buy   10.00  0.90353      NaN   \n",
       "4  2021.02.23 21:14:29  878190806  GBPUSD  buy   10.00  1.41096      NaN   \n",
       "\n",
       "     T / P               Time.1  Price.1  Commission  Swap   Profit  \\\n",
       "0  1.21066  2021.02.19 09:17:50  1.21066           0   0.0    10.10   \n",
       "1  1.08945  2021.02.22 09:56:00  1.08945           0   0.0   237.67   \n",
       "2  1.21865  2021.02.23 10:36:20  1.21565           0   0.0 -1070.00   \n",
       "3  0.90368  2021.02.23 21:14:39  0.90368           0   0.0   165.99   \n",
       "4  1.41283  2021.02.24 01:09:57  1.41138           0  -2.0   420.00   \n",
       "\n",
       "            open_time          close_time     time  \n",
       "0 2021-02-19 08:10:39 2021-02-19 09:17:50   4031.0  \n",
       "1 2021-02-22 03:52:22 2021-02-22 09:56:00  21818.0  \n",
       "2 2021-02-23 08:51:46 2021-02-23 10:36:20   6274.0  \n",
       "3 2021-02-23 21:03:19 2021-02-23 21:14:39    680.0  \n",
       "4 2021-02-23 21:14:29 2021-02-24 01:09:57  14128.0  "
      ]
     },
     "execution_count": 3,
     "metadata": {},
     "output_type": "execute_result"
    }
   ],
   "source": [
    "#Funcion donde el mismo Dataframe convertimos las columnas a tipo Datetime\n",
    "data2 = fn.f_columnas_tiempos(data)\n",
    "data2.head()"
   ]
  },
  {
   "cell_type": "markdown",
   "metadata": {},
   "source": [
    "En el mismo DataFrame utilizado anteriormente, agregamos agregamos una nueva columna: 'pips', que es la columna de pérdida o ganancia de la operación expresada en pips, también está 'pips_acm' que son los pips acumulados por operación (la suma acumulativa de la columna pips), y finalmente tienes 'profit_acm', que es el profit en capital, que acumula la cuenta."
   ]
  },
  {
   "cell_type": "code",
   "execution_count": 4,
   "metadata": {},
   "outputs": [],
   "source": [
    "def f_pip_size(Ticker):\n",
    "    pip_size = mt5.symbol_info(Ticker)._asdict().get('trade_tick_size')*10\n",
    "    n = 1/pip_size\n",
    "    return int(n)\n"
   ]
  },
  {
   "cell_type": "code",
   "execution_count": 5,
   "metadata": {},
   "outputs": [
    {
     "data": {
      "text/html": [
       "<div>\n",
       "<style scoped>\n",
       "    .dataframe tbody tr th:only-of-type {\n",
       "        vertical-align: middle;\n",
       "    }\n",
       "\n",
       "    .dataframe tbody tr th {\n",
       "        vertical-align: top;\n",
       "    }\n",
       "\n",
       "    .dataframe thead th {\n",
       "        text-align: right;\n",
       "    }\n",
       "</style>\n",
       "<table border=\"1\" class=\"dataframe\">\n",
       "  <thead>\n",
       "    <tr style=\"text-align: right;\">\n",
       "      <th></th>\n",
       "      <th>Time</th>\n",
       "      <th>Position</th>\n",
       "      <th>Symbol</th>\n",
       "      <th>Type</th>\n",
       "      <th>Volume</th>\n",
       "      <th>Price</th>\n",
       "      <th>S / L</th>\n",
       "      <th>T / P</th>\n",
       "      <th>Time.1</th>\n",
       "      <th>Price.1</th>\n",
       "      <th>Commission</th>\n",
       "      <th>Swap</th>\n",
       "      <th>Profit</th>\n",
       "      <th>open_time</th>\n",
       "      <th>close_time</th>\n",
       "      <th>time</th>\n",
       "      <th>pips</th>\n",
       "      <th>pips_acm</th>\n",
       "      <th>profit_acm</th>\n",
       "    </tr>\n",
       "  </thead>\n",
       "  <tbody>\n",
       "    <tr>\n",
       "      <th>0</th>\n",
       "      <td>2021.02.19 08:10:39</td>\n",
       "      <td>873210071</td>\n",
       "      <td>EURUSD</td>\n",
       "      <td>buy</td>\n",
       "      <td>0.10</td>\n",
       "      <td>1.20965</td>\n",
       "      <td>1.20866</td>\n",
       "      <td>1.21066</td>\n",
       "      <td>2021.02.19 09:17:50</td>\n",
       "      <td>1.21066</td>\n",
       "      <td>0</td>\n",
       "      <td>0.0</td>\n",
       "      <td>10.10</td>\n",
       "      <td>2021-02-19 08:10:39</td>\n",
       "      <td>2021-02-19 09:17:50</td>\n",
       "      <td>4031.0</td>\n",
       "      <td>10.1</td>\n",
       "      <td>10.1</td>\n",
       "      <td>10.10</td>\n",
       "    </tr>\n",
       "    <tr>\n",
       "      <th>1</th>\n",
       "      <td>2021.02.22 03:52:22</td>\n",
       "      <td>874804645</td>\n",
       "      <td>EURCHF</td>\n",
       "      <td>buy</td>\n",
       "      <td>1.08</td>\n",
       "      <td>1.08747</td>\n",
       "      <td>1.08643</td>\n",
       "      <td>1.08945</td>\n",
       "      <td>2021.02.22 09:56:00</td>\n",
       "      <td>1.08945</td>\n",
       "      <td>0</td>\n",
       "      <td>0.0</td>\n",
       "      <td>237.67</td>\n",
       "      <td>2021-02-22 03:52:22</td>\n",
       "      <td>2021-02-22 09:56:00</td>\n",
       "      <td>21818.0</td>\n",
       "      <td>19.8</td>\n",
       "      <td>29.9</td>\n",
       "      <td>247.77</td>\n",
       "    </tr>\n",
       "    <tr>\n",
       "      <th>2</th>\n",
       "      <td>2021.02.23 08:51:46</td>\n",
       "      <td>876896332</td>\n",
       "      <td>EURUSD</td>\n",
       "      <td>buy</td>\n",
       "      <td>10.00</td>\n",
       "      <td>1.21672</td>\n",
       "      <td>1.21565</td>\n",
       "      <td>1.21865</td>\n",
       "      <td>2021.02.23 10:36:20</td>\n",
       "      <td>1.21565</td>\n",
       "      <td>0</td>\n",
       "      <td>0.0</td>\n",
       "      <td>-1070.00</td>\n",
       "      <td>2021-02-23 08:51:46</td>\n",
       "      <td>2021-02-23 10:36:20</td>\n",
       "      <td>6274.0</td>\n",
       "      <td>-10.7</td>\n",
       "      <td>19.2</td>\n",
       "      <td>-822.23</td>\n",
       "    </tr>\n",
       "    <tr>\n",
       "      <th>3</th>\n",
       "      <td>2021.02.23 21:03:19</td>\n",
       "      <td>878179027</td>\n",
       "      <td>USDCHF</td>\n",
       "      <td>buy</td>\n",
       "      <td>10.00</td>\n",
       "      <td>0.90353</td>\n",
       "      <td>NaN</td>\n",
       "      <td>0.90368</td>\n",
       "      <td>2021.02.23 21:14:39</td>\n",
       "      <td>0.90368</td>\n",
       "      <td>0</td>\n",
       "      <td>0.0</td>\n",
       "      <td>165.99</td>\n",
       "      <td>2021-02-23 21:03:19</td>\n",
       "      <td>2021-02-23 21:14:39</td>\n",
       "      <td>680.0</td>\n",
       "      <td>1.5</td>\n",
       "      <td>20.7</td>\n",
       "      <td>-656.24</td>\n",
       "    </tr>\n",
       "    <tr>\n",
       "      <th>4</th>\n",
       "      <td>2021.02.23 21:14:29</td>\n",
       "      <td>878190806</td>\n",
       "      <td>GBPUSD</td>\n",
       "      <td>buy</td>\n",
       "      <td>10.00</td>\n",
       "      <td>1.41096</td>\n",
       "      <td>NaN</td>\n",
       "      <td>1.41283</td>\n",
       "      <td>2021.02.24 01:09:57</td>\n",
       "      <td>1.41138</td>\n",
       "      <td>0</td>\n",
       "      <td>-2.0</td>\n",
       "      <td>420.00</td>\n",
       "      <td>2021-02-23 21:14:29</td>\n",
       "      <td>2021-02-24 01:09:57</td>\n",
       "      <td>14128.0</td>\n",
       "      <td>4.2</td>\n",
       "      <td>24.9</td>\n",
       "      <td>-236.24</td>\n",
       "    </tr>\n",
       "  </tbody>\n",
       "</table>\n",
       "</div>"
      ],
      "text/plain": [
       "                  Time   Position  Symbol Type  Volume    Price    S / L  \\\n",
       "0  2021.02.19 08:10:39  873210071  EURUSD  buy    0.10  1.20965  1.20866   \n",
       "1  2021.02.22 03:52:22  874804645  EURCHF  buy    1.08  1.08747  1.08643   \n",
       "2  2021.02.23 08:51:46  876896332  EURUSD  buy   10.00  1.21672  1.21565   \n",
       "3  2021.02.23 21:03:19  878179027  USDCHF  buy   10.00  0.90353      NaN   \n",
       "4  2021.02.23 21:14:29  878190806  GBPUSD  buy   10.00  1.41096      NaN   \n",
       "\n",
       "     T / P               Time.1  Price.1  Commission  Swap   Profit  \\\n",
       "0  1.21066  2021.02.19 09:17:50  1.21066           0   0.0    10.10   \n",
       "1  1.08945  2021.02.22 09:56:00  1.08945           0   0.0   237.67   \n",
       "2  1.21865  2021.02.23 10:36:20  1.21565           0   0.0 -1070.00   \n",
       "3  0.90368  2021.02.23 21:14:39  0.90368           0   0.0   165.99   \n",
       "4  1.41283  2021.02.24 01:09:57  1.41138           0  -2.0   420.00   \n",
       "\n",
       "            open_time          close_time     time  pips  pips_acm  profit_acm  \n",
       "0 2021-02-19 08:10:39 2021-02-19 09:17:50   4031.0  10.1      10.1       10.10  \n",
       "1 2021-02-22 03:52:22 2021-02-22 09:56:00  21818.0  19.8      29.9      247.77  \n",
       "2 2021-02-23 08:51:46 2021-02-23 10:36:20   6274.0 -10.7      19.2     -822.23  \n",
       "3 2021-02-23 21:03:19 2021-02-23 21:14:39    680.0   1.5      20.7     -656.24  \n",
       "4 2021-02-23 21:14:29 2021-02-24 01:09:57  14128.0   4.2      24.9     -236.24  "
      ]
     },
     "execution_count": 5,
     "metadata": {},
     "output_type": "execute_result"
    }
   ],
   "source": [
    "#Funcion para obtener el número multiplicador para expresar la diferencia de precios en pips.\n",
    "data3 = fn.f_columnas_pips(data2)\n",
    "data3.head()"
   ]
  },
  {
   "cell_type": "markdown",
   "metadata": {},
   "source": [
    "Despues, creamos una funcion que se llama **f_estadisticas_ba** donde la salida es un diccionario con dos llaves una con una tabla con medidas de desempeño que lo podríamos llamar un resumen de nuestro trading y una segunda tabla con el ranking de nuestros trades. "
   ]
  },
  {
   "cell_type": "code",
   "execution_count": 6,
   "metadata": {},
   "outputs": [
    {
     "data": {
      "text/plain": [
       "{'df_1_tabla':              medida        valor                            descripcion\n",
       " 0       Ops totales    15.000000                    Operaciones totales\n",
       " 1         Ganadoras    10.000000                  Operaciones ganadoras\n",
       " 2       Ganadoras_c     6.000000        Operaciones ganadoras de compra\n",
       " 3       Ganadoras_v     4.000000         Operaciones ganadoras de venta\n",
       " 4        Perdedoras     5.000000                 Operaciones perdedoras\n",
       " 5      Perdedoras_c     4.000000       Operaciones perdedoras de compra\n",
       " 6      Perdedoras_v     1.000000        Operaciones perdedoras de venta\n",
       " 7   Mediana(Profit)  1330.320000       Mediana de profit de operaciones\n",
       " 8     Mediana(Pips)    70.600000         Mediana de pips de operaciones\n",
       " 9     r_efectividad     0.666667  Ganadoras Totales/Operaciones Totales\n",
       " 10     r_proporcion     2.000000   Ganadoras Totales/Perdedoras Totales\n",
       " 11  r_efectividad_c     0.400000   Ganadoras Compra/Operaciones Totales\n",
       " 12  r_efectividad_v     0.266667    Ganadoras Venta/Operaciones Totales,\n",
       " 'df_2_ranking':    Symbol    Rank\n",
       " 0  EURUSD  66.67%\n",
       " 1  EURCHF   50.0%\n",
       " 2  USDCHF  100.0%\n",
       " 3  GBPUSD   50.0%\n",
       " 4  AUDCAD  100.0%\n",
       " 5  GBPJPY  100.0%\n",
       " 6  CADJPY    0.0%\n",
       " 7  GBPCHF  100.0%}"
      ]
     },
     "execution_count": 6,
     "metadata": {},
     "output_type": "execute_result"
    }
   ],
   "source": [
    "#Funcion donde obtenemos un diccionario con dos dataframes donde nos dice las estadisticas basicas y raking.\n",
    "data4 = fn.f_estadisticas_ba(data3)\n",
    "data4"
   ]
  },
  {
   "cell_type": "markdown",
   "metadata": {},
   "source": [
    "En el caso de Marce, podemos ver que el ranking mas alto fue de un 66.67% con EURUSD y si vemos la otra tabla, podemos observar que tuvo 6 ganadoras de compra y 4 ganadoras de venta y su mediana de profit de operaciones fue de 1330.32"
   ]
  },
  {
   "cell_type": "markdown",
   "metadata": {},
   "source": [
    "# <font color= #6B6B6B> <font size = 6> 4. Procesos </font>\n"
   ]
  },
  {
   "cell_type": "markdown",
   "metadata": {},
   "source": [
    "# <font color= #6B6B6B> <font size = 3> 4.1 Metricas de atribucion al desempeño </font>\n"
   ]
  },
  {
   "cell_type": "markdown",
   "metadata": {},
   "source": [
    "En la segunda parte nuestro objetivo fue ver como iba evolucionando el capital. Con la funcion de **f_evolucion_capital** podiamos observar los rendimientos diarios y los rendimientos acumulados a lo largo del tiempo. Algo con lo que tuvimos problemas fue intentar eliminar los fines de semana ya que esos dias no habria el mercado por lo tanto no teniamos ningun trade. "
   ]
  },
  {
   "cell_type": "code",
   "execution_count": 7,
   "metadata": {},
   "outputs": [
    {
     "name": "stderr",
     "output_type": "stream",
     "text": [
      "C:\\Users\\Andres\\anaconda3\\lib\\site-packages\\pandas\\core\\frame.py:4296: SettingWithCopyWarning: \n",
      "A value is trying to be set on a copy of a slice from a DataFrame\n",
      "\n",
      "See the caveats in the documentation: https://pandas.pydata.org/pandas-docs/stable/user_guide/indexing.html#returning-a-view-versus-a-copy\n",
      "  return super().rename(\n"
     ]
    },
    {
     "data": {
      "text/html": [
       "<div>\n",
       "<style scoped>\n",
       "    .dataframe tbody tr th:only-of-type {\n",
       "        vertical-align: middle;\n",
       "    }\n",
       "\n",
       "    .dataframe tbody tr th {\n",
       "        vertical-align: top;\n",
       "    }\n",
       "\n",
       "    .dataframe thead th {\n",
       "        text-align: right;\n",
       "    }\n",
       "</style>\n",
       "<table border=\"1\" class=\"dataframe\">\n",
       "  <thead>\n",
       "    <tr style=\"text-align: right;\">\n",
       "      <th></th>\n",
       "      <th>timestamp</th>\n",
       "      <th>profit_d</th>\n",
       "      <th>profit_acm_d</th>\n",
       "    </tr>\n",
       "  </thead>\n",
       "  <tbody>\n",
       "    <tr>\n",
       "      <th>0</th>\n",
       "      <td>2021-02-19</td>\n",
       "      <td>10.10</td>\n",
       "      <td>100010.10</td>\n",
       "    </tr>\n",
       "    <tr>\n",
       "      <th>1</th>\n",
       "      <td>2021-02-22</td>\n",
       "      <td>237.67</td>\n",
       "      <td>100247.77</td>\n",
       "    </tr>\n",
       "    <tr>\n",
       "      <th>2</th>\n",
       "      <td>2021-02-23</td>\n",
       "      <td>-904.01</td>\n",
       "      <td>99343.76</td>\n",
       "    </tr>\n",
       "    <tr>\n",
       "      <th>3</th>\n",
       "      <td>2021-02-24</td>\n",
       "      <td>420.00</td>\n",
       "      <td>99763.76</td>\n",
       "    </tr>\n",
       "    <tr>\n",
       "      <th>4</th>\n",
       "      <td>2021-02-25</td>\n",
       "      <td>1408.65</td>\n",
       "      <td>101172.41</td>\n",
       "    </tr>\n",
       "  </tbody>\n",
       "</table>\n",
       "</div>"
      ],
      "text/plain": [
       "   timestamp  profit_d  profit_acm_d\n",
       "0 2021-02-19     10.10     100010.10\n",
       "1 2021-02-22    237.67     100247.77\n",
       "2 2021-02-23   -904.01      99343.76\n",
       "3 2021-02-24    420.00      99763.76\n",
       "4 2021-02-25   1408.65     101172.41"
      ]
     },
     "execution_count": 7,
     "metadata": {},
     "output_type": "execute_result"
    }
   ],
   "source": [
    "\n",
    "\n",
    "#funcion cuya salida contiene un dataframe con fechas dia a dia que se hizo taiding (Quitando fines de semana)\n",
    "data5 = fn.f_evolucion_capital(data3)\n",
    "data5.head()\n"
   ]
  },
  {
   "cell_type": "markdown",
   "metadata": {},
   "source": [
    "La ultima parte de las metricas de atribucion fue una funcion llamada **f_estadisticas_mad** donde podemos observar una tabla un poco mas elaborada con metricas como lo es el Radio de Sharpe. El Radio de Sharpe es una metrica bastante poderosa ya que nos ayuda a medir el rendimiento promedio excedente sobre la tasa libre de riesgo por unidad de riesgo incurrido. Por ejemplo, en el caso de Marce, ella tuvo un radio de Sharpe Negativo de -17.91 por lo que podemos concluir que sus rendimientos estaban por debajo de los rendimientos de la tasa libre de riesgo. Un sharpe muy alto en terminos financieros represente un excedente de rendimiento.  Otra cosa que analizamos fue Draw Up y Draw Down que quiere decir la minusvalía/plusvalía máxima que se presentó en la evolución del capital. Lo que buscabamos obtener aqui es la fecha inicial, la fecha final y la magnitud del periodo donde la acumulación de pérdida/ganancia de capital resultó ser la mayor dentro del periodo de tiempo analizado **Por ejemplo, en el caso de Jaime, (Explicar los resultados)**\n",
    "\n"
   ]
  },
  {
   "cell_type": "code",
   "execution_count": 8,
   "metadata": {},
   "outputs": [
    {
     "name": "stdout",
     "output_type": "stream",
     "text": [
      "[*********************100%***********************]  1 of 1 completed\n"
     ]
    },
    {
     "data": {
      "text/html": [
       "<div>\n",
       "<style scoped>\n",
       "    .dataframe tbody tr th:only-of-type {\n",
       "        vertical-align: middle;\n",
       "    }\n",
       "\n",
       "    .dataframe tbody tr th {\n",
       "        vertical-align: top;\n",
       "    }\n",
       "\n",
       "    .dataframe thead th {\n",
       "        text-align: right;\n",
       "    }\n",
       "</style>\n",
       "<table border=\"1\" class=\"dataframe\">\n",
       "  <thead>\n",
       "    <tr style=\"text-align: right;\">\n",
       "      <th></th>\n",
       "      <th>Metrica</th>\n",
       "      <th>Valor</th>\n",
       "      <th>Descripción</th>\n",
       "    </tr>\n",
       "  </thead>\n",
       "  <tbody>\n",
       "    <tr>\n",
       "      <th>0</th>\n",
       "      <td>sharpe</td>\n",
       "      <td>-17.9161</td>\n",
       "      <td>Sharpe Ratio</td>\n",
       "    </tr>\n",
       "    <tr>\n",
       "      <th>1</th>\n",
       "      <td>sharpe_actualizado</td>\n",
       "      <td>0    0.02\n",
       "dtype: float64</td>\n",
       "      <td>Sharpe Ratio Fórmula Ajustada</td>\n",
       "    </tr>\n",
       "    <tr>\n",
       "      <th>2</th>\n",
       "      <td>drawdown_capi_Fech_Ini</td>\n",
       "      <td>2021-02-26 00:00:00</td>\n",
       "      <td>Fecha inicial del DrawDown de Capital</td>\n",
       "    </tr>\n",
       "    <tr>\n",
       "      <th>3</th>\n",
       "      <td>drawdown_capi_Fech_Fin</td>\n",
       "      <td>2021-03-01 00:00:00</td>\n",
       "      <td>Fecha final del DrawDown de Capital</td>\n",
       "    </tr>\n",
       "    <tr>\n",
       "      <th>4</th>\n",
       "      <td>drawdown_capi</td>\n",
       "      <td>-0.0444972</td>\n",
       "      <td>Máxima pérdida flotante registrada</td>\n",
       "    </tr>\n",
       "  </tbody>\n",
       "</table>\n",
       "</div>"
      ],
      "text/plain": [
       "                  Metrica                     Valor  \\\n",
       "0                  sharpe                  -17.9161   \n",
       "1      sharpe_actualizado  0    0.02\n",
       "dtype: float64   \n",
       "2  drawdown_capi_Fech_Ini       2021-02-26 00:00:00   \n",
       "3  drawdown_capi_Fech_Fin       2021-03-01 00:00:00   \n",
       "4           drawdown_capi                -0.0444972   \n",
       "\n",
       "                             Descripción  \n",
       "0                           Sharpe Ratio  \n",
       "1          Sharpe Ratio Fórmula Ajustada  \n",
       "2  Fecha inicial del DrawDown de Capital  \n",
       "3    Fecha final del DrawDown de Capital  \n",
       "4     Máxima pérdida flotante registrada  "
      ]
     },
     "execution_count": 8,
     "metadata": {},
     "output_type": "execute_result"
    }
   ],
   "source": [
    "#Función que regrese un DataFrame con los resultados de cada MAD expresadas en términos diarios   \n",
    "data6 = fn.f_estadisticas_mad(data5)\n",
    "data6.head()"
   ]
  },
  {
   "cell_type": "markdown",
   "metadata": {},
   "source": [
    "Para visualizar los draw up y draw down utilizaremos la siguiente grafica"
   ]
  },
  {
   "cell_type": "markdown",
   "metadata": {},
   "source": [
    "# <font color= #6B6B6B> <font size = 3> 4.2 Behavioral Finance </font>"
   ]
  },
  {
   "cell_type": "code",
   "execution_count": 9,
   "metadata": {},
   "outputs": [
    {
     "data": {
      "text/html": [
       "<div>\n",
       "<style scoped>\n",
       "    .dataframe tbody tr th:only-of-type {\n",
       "        vertical-align: middle;\n",
       "    }\n",
       "\n",
       "    .dataframe tbody tr th {\n",
       "        vertical-align: top;\n",
       "    }\n",
       "\n",
       "    .dataframe thead th {\n",
       "        text-align: right;\n",
       "    }\n",
       "</style>\n",
       "<table border=\"1\" class=\"dataframe\">\n",
       "  <thead>\n",
       "    <tr style=\"text-align: right;\">\n",
       "      <th></th>\n",
       "      <th>ocurrencias</th>\n",
       "      <th>status_quo</th>\n",
       "      <th>aversion_perdida</th>\n",
       "      <th>sensibilidad_decreciente</th>\n",
       "    </tr>\n",
       "  </thead>\n",
       "  <tbody>\n",
       "    <tr>\n",
       "      <th>0</th>\n",
       "      <td>6</td>\n",
       "      <td>100.0%</td>\n",
       "      <td>0.0%</td>\n",
       "      <td>No</td>\n",
       "    </tr>\n",
       "  </tbody>\n",
       "</table>\n",
       "</div>"
      ],
      "text/plain": [
       "   ocurrencias status_quo aversion_perdida sensibilidad_decreciente\n",
       "0            6     100.0%             0.0%                       No"
      ]
     },
     "execution_count": 9,
     "metadata": {},
     "output_type": "execute_result"
    }
   ],
   "source": [
    "data7 = fn.f_be_de(data3)\n",
    "data7"
   ]
  },
  {
   "cell_type": "markdown",
   "metadata": {},
   "source": [
    "# <font color= #6B6B6B> <font size = 6> 5. Conlclusiones </font>"
   ]
  },
  {
   "cell_type": "markdown",
   "metadata": {},
   "source": [
    "Nuestro cerebro toma atajos mentales para poder emitir juicios y decisiones de forma rápida y así responder a determinados estímulos, problemas y situaciones.\n",
    "Y de ahí nacen los sesgos cognitivos, que son situaciones en las que estos atajos hacen que nuestro procesamiento mental no sea correcto y nos lleve a una distorsión, juicio inexacto o una interpretación ilógica de la información."
   ]
  },
  {
   "cell_type": "markdown",
   "metadata": {},
   "source": [
    "Algunos ejemplos de los efectos negativos de los sesgos cognitivos serían:\n",
    "* Comprar o vender en el momento equivocado \n",
    "* Salirse de una operación muy pronto\n",
    "* Desviarse del plan de trading\n",
    "* Cortar las pérdidas muy tarde\n",
    "* No analizar correctamente la nueva información durante el desarrollo de la operación\n",
    "* Que el stop loss te saque de una operación por ser demasiado ajustado\n",
    "* No tomar una operación cuando deberíamos hacerlo\n",
    "* Confiar en la información de medios de comunicación o redes sociales más que en tu propio análisis"
   ]
  },
  {
   "cell_type": "markdown",
   "metadata": {},
   "source": [
    "Nos damos cuenta que todos los integrantes del equipo de alguna forma uh otra caemos en alguno estos sesgos en algun punto de hacer traiding."
   ]
  }
 ],
 "metadata": {
  "kernelspec": {
   "display_name": "Python 3",
   "language": "python",
   "name": "python3"
  },
  "language_info": {
   "codemirror_mode": {
    "name": "ipython",
    "version": 3
   },
   "file_extension": ".py",
   "mimetype": "text/x-python",
   "name": "python",
   "nbconvert_exporter": "python",
   "pygments_lexer": "ipython3",
   "version": "3.8.5"
  }
 },
 "nbformat": 4,
 "nbformat_minor": 4
}
